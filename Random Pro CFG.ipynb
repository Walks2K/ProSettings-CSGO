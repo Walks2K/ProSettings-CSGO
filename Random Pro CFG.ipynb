{
 "cells": [
  {
   "cell_type": "markdown",
   "metadata": {},
   "source": [
    "# Download a random pro's CFG and place it in CSGO folder\n",
    "## Set CSGO Path"
   ]
  },
  {
   "cell_type": "code",
   "execution_count": 5,
   "metadata": {},
   "outputs": [],
   "source": [
    "# Change to match your CSGO install directory\n",
    "PATH = \"H:\\\\SteamLibrary\\\\steamapps\\\\common\\\\Counter-Strike Global Offensive\""
   ]
  },
  {
   "cell_type": "markdown",
   "metadata": {},
   "source": [
    "## Download/Create Dataframe"
   ]
  },
  {
   "cell_type": "code",
   "execution_count": 6,
   "metadata": {},
   "outputs": [],
   "source": [
    "from download_table import get_table\n",
    "dataframe = get_table()\n",
    "\n",
    "# Filter out rows where \"Team\" column isn't one of:\n",
    "# \"FaZe Clan\", \"NaVi\", \"Cloud9\", \"ENCE\", \"Astralis\", \"Vitality\", \"MR\", \"G2\", \"NiP\", \"MOUZ\", \"FURIA\", \"BIG\", \"Heroic\", \"Liquid\" or \"Spirit\"\n",
    "team_list = [\"FaZe Clan\", \"NaVi\", \"Cloud9\", \"ENCE\", \"Astralis\", \"Vitality\", \"MR\", \"G2\", \"NiP\", \"MOUZ\", \"FURIA\", \"BIG\", \"Heroic\", \"Liquid\", \"Spirit\"]\n",
    "# Check if any are missing\n",
    "missing_teams = [team for team in team_list if team not in dataframe[\"Team\"].unique()]\n",
    "if missing_teams:\n",
    "    print(\"Missing teams:\", missing_teams)\n",
    "    raise ValueError(\"Missing teams\")\n",
    "dataframe = dataframe[dataframe[\"Team\"].isin(team_list)]"
   ]
  },
  {
   "cell_type": "markdown",
   "metadata": {},
   "source": [
    "## Download CFGS"
   ]
  },
  {
   "cell_type": "code",
   "execution_count": 33,
   "metadata": {},
   "outputs": [],
   "source": [
    "import os\n",
    "import requests\n",
    "import threading\n",
    "\n",
    "from bs4 import BeautifulSoup\n",
    "\n",
    "\n",
    "# Extract data\n",
    "def get_player_data(row):\n",
    "    # Go to the player's profile page (https://prosettings.net/players/{player})\n",
    "    player = row[\"Player\"]\n",
    "    team = row[\"Team\"]\n",
    "    player_url = f\"https://prosettings.net/players/{player}\"\n",
    "    response = requests.get(player_url)\n",
    "    soup = BeautifulSoup(response.text, \"html.parser\")\n",
    "\n",
    "    settings_dict = {}\n",
    "\n",
    "    # Each category is found as follows:\n",
    "    # Section -> Table -> Data in rows\n",
    "\n",
    "    # Mouse\n",
    "    mouse_section = soup.find(\"section\", id=\"csgo_mouse\")\n",
    "    mouse_table = mouse_section.find(\"table\", class_=\"settings\")\n",
    "    for row in mouse_table.find_all(\"tr\"):\n",
    "        key = row[\"data-field\"]\n",
    "        value = row.find(\"td\").text\n",
    "        settings_dict[key] = value\n",
    "\n",
    "    # Crosshair\n",
    "    crosshair_section = soup.find(\"section\", id=\"csgo_crosshair\")\n",
    "    crosshair_table = crosshair_section.find(\"table\", class_=\"settings\")\n",
    "    for row in crosshair_table.find_all(\"tr\"):\n",
    "        key = row[\"data-field\"]\n",
    "        value = row.find(\"td\").text\n",
    "        settings_dict[key] = value\n",
    "\n",
    "    # Viewmodel\n",
    "    viewmodel_section = soup.find(\"section\", id=\"csgo_viewmodel\")\n",
    "    viewmodel_table = viewmodel_section.find(\"table\", class_=\"settings\")\n",
    "    for row in viewmodel_table.find_all(\"tr\"):\n",
    "        key = row[\"data-field\"]\n",
    "        value = row.find(\"td\").text\n",
    "        settings_dict[key] = value\n",
    "\n",
    "    # Bob\n",
    "    bob_section = soup.find(\"section\", id=\"csgo_bob\")\n",
    "    bob_table = bob_section.find(\"table\", class_=\"settings\")\n",
    "    for row in bob_table.find_all(\"tr\"):\n",
    "        key = row[\"data-field\"]\n",
    "        value = row.find(\"td\").text\n",
    "        settings_dict[key] = value\n",
    "\n",
    "    # Video Settings\n",
    "    video_section = soup.find(\"section\", id=\"csgo_video_settings\")\n",
    "    video_table = video_section.find(\"table\", class_=\"settings\")\n",
    "    for row in video_table.find_all(\"tr\"):\n",
    "        key = row[\"data-field\"]\n",
    "        value = row.find(\"td\").text\n",
    "        settings_dict[key] = value\n",
    "\n",
    "    # Advanced Video\n",
    "    advanced_video_section = soup.find(\"section\", id=\"advanced_video\")\n",
    "    advanced_video_table = advanced_video_section.find(\"table\", class_=\"settings\")\n",
    "    for row in advanced_video_table.find_all(\"tr\"):\n",
    "        key = row[\"data-field\"]\n",
    "        value = row.find(\"td\").text\n",
    "        settings_dict[key] = value\n",
    "\n",
    "    # Create pro_configs/{team} if it doesn't exist\n",
    "    if not os.path.exists(f\"pro_configs/{team}\"):\n",
    "        os.makedirs(f\"pro_configs/{team}\")\n",
    "\n",
    "    # Save to cfg file\n",
    "    with open(f\"pro_configs/{team}/{player}.cfg\", \"w\") as f:\n",
    "        f.write(f\"// {player} CFG\\n\")\n",
    "        for key, value in settings_dict.items():\n",
    "            f.write(f\"{key} {value}\\n\")\n",
    "\n",
    "    with open(f\"pro_configs/{team}/{player}.cfg\", \"a\") as f:\n",
    "        f.write(\"\\n// Print settings\\nclear\\n\")\n",
    "        for key, value in settings_dict.items():\n",
    "            f.write(f\"echo {key}: {value}\\n\")\n",
    "\n",
    "# Test with one player (electronic)\n",
    "# get_player_data(dataframe.iloc[0])\n",
    "# print(f\"Done with {dataframe.iloc[0]['Player']}\")\n",
    "\n",
    "# Run with all players\n",
    "players = dataframe\n",
    "threads = []\n",
    "\n",
    "for index, row in players.iterrows():\n",
    "    thread = threading.Thread(target=get_player_data, args=(row,))\n",
    "    threads.append(thread)\n",
    "    thread.start()\n",
    "\n",
    "for thread in threads:\n",
    "    thread.join()"
   ]
  },
  {
   "cell_type": "markdown",
   "metadata": {},
   "source": [
    "## Pick a random CFG"
   ]
  },
  {
   "cell_type": "code",
   "execution_count": 46,
   "metadata": {},
   "outputs": [
    {
     "name": "stdout",
     "output_type": "stream",
     "text": [
      "pro_configs\\FaZe Clan\\karrigan.cfg\n"
     ]
    }
   ],
   "source": [
    "# Pick random .cfg from pro_configs/*\n",
    "import random\n",
    "import os\n",
    "\n",
    "# Get list of all .cfg files\n",
    "cfgs = []\n",
    "for root, dirs, files in os.walk(\"pro_configs\"):\n",
    "    for file in files:\n",
    "        if file.endswith(\".cfg\"):\n",
    "            cfgs.append(os.path.join(root, file))\n",
    "\n",
    "# Pick random .cfg\n",
    "random_cfg = random.choice(cfgs)\n",
    "print(random_cfg)"
   ]
  }
 ],
 "metadata": {
  "kernelspec": {
   "display_name": "Python 3.9.10 64-bit",
   "language": "python",
   "name": "python3"
  },
  "language_info": {
   "codemirror_mode": {
    "name": "ipython",
    "version": 3
   },
   "file_extension": ".py",
   "mimetype": "text/x-python",
   "name": "python",
   "nbconvert_exporter": "python",
   "pygments_lexer": "ipython3",
   "version": "3.9.10"
  },
  "orig_nbformat": 4,
  "vscode": {
   "interpreter": {
    "hash": "ac79d90e52f554a03ecdae43238d0af12a23befc8fbacb460f4509d29e70d5af"
   }
  }
 },
 "nbformat": 4,
 "nbformat_minor": 2
}
