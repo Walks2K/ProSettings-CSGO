{
 "cells": [
  {
   "cell_type": "markdown",
   "metadata": {},
   "source": [
    "# ProSettings Data\n",
    "## Imports"
   ]
  },
  {
   "cell_type": "code",
   "execution_count": 2,
   "metadata": {},
   "outputs": [],
   "source": [
    "import os\n",
    "import time\n",
    "import matplotlib.pyplot as plt\n",
    "from numpy import dtype\n",
    "\n",
    "import pandas as pd\n",
    "import seaborn as sns\n",
    "from bs4 import BeautifulSoup\n",
    "from selenium import webdriver"
   ]
  },
  {
   "cell_type": "markdown",
   "metadata": {},
   "source": [
    "## Get Table Function"
   ]
  },
  {
   "cell_type": "code",
   "execution_count": 3,
   "metadata": {},
   "outputs": [],
   "source": [
    "def get_table(url):\n",
    "    \"\"\"\n",
    "    Get table from url\n",
    "    \"\"\"\n",
    "    driver = webdriver.Chrome(executable_path=os.path.abspath(\"chromedriver\"))\n",
    "    driver.implicitly_wait(5)\n",
    "    driver.get(url)\n",
    "    driver.maximize_window()\n",
    "\n",
    "    time.sleep(5)\n",
    "\n",
    "    html = driver.page_source\n",
    "    driver.quit()\n",
    "    soup = BeautifulSoup(html, \"html.parser\")\n",
    "    table = soup.find(\"table\")\n",
    "\n",
    "    # Save table to file\n",
    "    with open(\"table.html\", \"w\", encoding=\"utf-8\") as file:\n",
    "        file.write(str(table))\n",
    "\n",
    "    return table"
   ]
  },
  {
   "cell_type": "markdown",
   "metadata": {},
   "source": [
    "## Set URL"
   ]
  },
  {
   "cell_type": "code",
   "execution_count": 4,
   "metadata": {},
   "outputs": [],
   "source": [
    "url = \"https://prosettings.net/cs-go-pro-settings-gear-list/\""
   ]
  },
  {
   "cell_type": "markdown",
   "metadata": {},
   "source": [
    "## Extract Data from ProSettings"
   ]
  },
  {
   "cell_type": "code",
   "execution_count": 5,
   "metadata": {},
   "outputs": [
    {
     "name": "stderr",
     "output_type": "stream",
     "text": [
      "C:\\Users\\Walks\\AppData\\Local\\Temp\\ipykernel_3164\\3675173765.py:5: DeprecationWarning: executable_path has been deprecated, please pass in a Service object\n",
      "  driver = webdriver.Chrome(executable_path=os.path.abspath(\"chromedriver\"))\n"
     ]
    }
   ],
   "source": [
    "table = get_table(url)"
   ]
  },
  {
   "cell_type": "markdown",
   "metadata": {},
   "source": [
    "## Create Dataframe"
   ]
  },
  {
   "cell_type": "code",
   "execution_count": 51,
   "metadata": {},
   "outputs": [],
   "source": [
    "dataframe = pd.read_html(table.prettify())[0]\n",
    "dataframe = dataframe.dropna(how=\"all\")\n",
    "\n",
    "# Filter out rows where \"Team\" column isn't one of:\n",
    "# \"FaZe Clan\", \"NaVi\", \"Cloud9\", \"ENCE\", \"Astralis\", \"Vitality\", \"MR\", \"G2\", \"NiP\", \"MOUZ\", \"FURIA\", \"BIG\", \"Heroic\", \"Liquid\" or \"Spirit\"\n",
    "team_list = [\"FaZe Clan\", \"NaVi\", \"Cloud9\", \"ENCE\", \"Astralis\", \"Vitality\", \"MR\", \"G2\", \"NiP\", \"MOUZ\", \"FURIA\", \"BIG\", \"Heroic\", \"Liquid\", \"Spirit\"]\n",
    "# Check if any are missing\n",
    "missing_teams = [team for team in team_list if team not in dataframe[\"Team\"].unique()]\n",
    "if missing_teams:\n",
    "    print(\"Missing teams:\", missing_teams)\n",
    "    raise ValueError(\"Missing teams\")\n",
    "dataframe = dataframe[dataframe[\"Team\"].isin(team_list)]"
   ]
  },
  {
   "cell_type": "markdown",
   "metadata": {},
   "source": [
    "## Peek at Data"
   ]
  },
  {
   "cell_type": "code",
   "execution_count": 52,
   "metadata": {},
   "outputs": [
    {
     "data": {
      "text/html": [
       "<div>\n",
       "<style scoped>\n",
       "    .dataframe tbody tr th:only-of-type {\n",
       "        vertical-align: middle;\n",
       "    }\n",
       "\n",
       "    .dataframe tbody tr th {\n",
       "        vertical-align: top;\n",
       "    }\n",
       "\n",
       "    .dataframe thead th {\n",
       "        text-align: right;\n",
       "    }\n",
       "</style>\n",
       "<table border=\"1\" class=\"dataframe\">\n",
       "  <thead>\n",
       "    <tr style=\"text-align: right;\">\n",
       "      <th></th>\n",
       "      <th>Team</th>\n",
       "      <th>Player</th>\n",
       "      <th>Role</th>\n",
       "      <th>Mouse</th>\n",
       "      <th>M. HZ</th>\n",
       "      <th>DPI</th>\n",
       "      <th>Sens</th>\n",
       "      <th>eDPI</th>\n",
       "      <th>Zoom Sens</th>\n",
       "      <th>Accel</th>\n",
       "      <th>...</th>\n",
       "      <th>Monitor</th>\n",
       "      <th>HZ</th>\n",
       "      <th>GPU</th>\n",
       "      <th>Resolution</th>\n",
       "      <th>Aspect Ratio</th>\n",
       "      <th>Scaling Mode</th>\n",
       "      <th>Mousepad</th>\n",
       "      <th>Keyboard</th>\n",
       "      <th>Headset</th>\n",
       "      <th>CFG</th>\n",
       "    </tr>\n",
       "  </thead>\n",
       "  <tbody>\n",
       "    <tr>\n",
       "      <th>2</th>\n",
       "      <td>NaVi</td>\n",
       "      <td>electronic</td>\n",
       "      <td>Rifler</td>\n",
       "      <td>Logitech G Pro X Superlight White</td>\n",
       "      <td>1000.0</td>\n",
       "      <td>400.0</td>\n",
       "      <td>2.20</td>\n",
       "      <td>880.0</td>\n",
       "      <td>1.05</td>\n",
       "      <td>0.0</td>\n",
       "      <td>...</td>\n",
       "      <td>BenQ XL2546K</td>\n",
       "      <td>240.0</td>\n",
       "      <td>RX 6900 XT</td>\n",
       "      <td>1280x960</td>\n",
       "      <td>4:3</td>\n",
       "      <td>STR</td>\n",
       "      <td>Logitech G640</td>\n",
       "      <td>Logitech G915 TKL White</td>\n",
       "      <td>Logitech G Pro X Wireless Headset</td>\n",
       "      <td>CONFIG</td>\n",
       "    </tr>\n",
       "    <tr>\n",
       "      <th>3</th>\n",
       "      <td>NaVi</td>\n",
       "      <td>sdy</td>\n",
       "      <td>Rifler</td>\n",
       "      <td>FinalMouse Starlight 12 Phantom</td>\n",
       "      <td>1000.0</td>\n",
       "      <td>800.0</td>\n",
       "      <td>1.00</td>\n",
       "      <td>800.0</td>\n",
       "      <td>1.00</td>\n",
       "      <td>0.0</td>\n",
       "      <td>...</td>\n",
       "      <td>BenQ XL2546K</td>\n",
       "      <td>240.0</td>\n",
       "      <td>RTX 3080</td>\n",
       "      <td>1280x1024</td>\n",
       "      <td>5:4</td>\n",
       "      <td>STR</td>\n",
       "      <td>Logitech G640 NAVI</td>\n",
       "      <td>Logitech G915 TKL</td>\n",
       "      <td>Logitech G Pro X Headset</td>\n",
       "      <td>CONFIG</td>\n",
       "    </tr>\n",
       "    <tr>\n",
       "      <th>4</th>\n",
       "      <td>NaVi</td>\n",
       "      <td>s1mple</td>\n",
       "      <td>AWPer</td>\n",
       "      <td>Logitech G Pro X Superlight White</td>\n",
       "      <td>1000.0</td>\n",
       "      <td>400.0</td>\n",
       "      <td>3.09</td>\n",
       "      <td>1236.0</td>\n",
       "      <td>1.00</td>\n",
       "      <td>0.0</td>\n",
       "      <td>...</td>\n",
       "      <td>BenQ XL2546K</td>\n",
       "      <td>240.0</td>\n",
       "      <td>RTX 3090</td>\n",
       "      <td>1280x960</td>\n",
       "      <td>4:3</td>\n",
       "      <td>STR</td>\n",
       "      <td>HATOR It's nice to be s1mple</td>\n",
       "      <td>Logitech G915 TKL</td>\n",
       "      <td>Logitech G Pro X Headset</td>\n",
       "      <td>CONFIG</td>\n",
       "    </tr>\n",
       "    <tr>\n",
       "      <th>5</th>\n",
       "      <td>NaVi</td>\n",
       "      <td>Perfecto</td>\n",
       "      <td>Rifler</td>\n",
       "      <td>Logitech G Pro X Superlight Magenta</td>\n",
       "      <td>1000.0</td>\n",
       "      <td>800.0</td>\n",
       "      <td>0.90</td>\n",
       "      <td>720.0</td>\n",
       "      <td>1.00</td>\n",
       "      <td>0.0</td>\n",
       "      <td>...</td>\n",
       "      <td>BenQ XL2546K</td>\n",
       "      <td>240.0</td>\n",
       "      <td>RX 6900 XT</td>\n",
       "      <td>1280x960</td>\n",
       "      <td>4:3</td>\n",
       "      <td>STR</td>\n",
       "      <td>Logitech G640</td>\n",
       "      <td>Logitech G915 TKL</td>\n",
       "      <td>Logitech G Pro X Headset</td>\n",
       "      <td>CONFIG</td>\n",
       "    </tr>\n",
       "    <tr>\n",
       "      <th>6</th>\n",
       "      <td>NaVi</td>\n",
       "      <td>b1t</td>\n",
       "      <td>Rifler</td>\n",
       "      <td>Logitech G Pro X Superlight White</td>\n",
       "      <td>1000.0</td>\n",
       "      <td>400.0</td>\n",
       "      <td>1.42</td>\n",
       "      <td>568.0</td>\n",
       "      <td>1.00</td>\n",
       "      <td>0.0</td>\n",
       "      <td>...</td>\n",
       "      <td>BenQ XL2546</td>\n",
       "      <td>240.0</td>\n",
       "      <td>RTX 3080</td>\n",
       "      <td>1280x960</td>\n",
       "      <td>4:3</td>\n",
       "      <td>STR</td>\n",
       "      <td>Zowie G-SR</td>\n",
       "      <td>Logitech G Pro X Mechanical Keyboard</td>\n",
       "      <td>Logitech G Pro X Headset</td>\n",
       "      <td>CONFIG</td>\n",
       "    </tr>\n",
       "    <tr>\n",
       "      <th>...</th>\n",
       "      <td>...</td>\n",
       "      <td>...</td>\n",
       "      <td>...</td>\n",
       "      <td>...</td>\n",
       "      <td>...</td>\n",
       "      <td>...</td>\n",
       "      <td>...</td>\n",
       "      <td>...</td>\n",
       "      <td>...</td>\n",
       "      <td>...</td>\n",
       "      <td>...</td>\n",
       "      <td>...</td>\n",
       "      <td>...</td>\n",
       "      <td>...</td>\n",
       "      <td>...</td>\n",
       "      <td>...</td>\n",
       "      <td>...</td>\n",
       "      <td>...</td>\n",
       "      <td>...</td>\n",
       "      <td>...</td>\n",
       "      <td>...</td>\n",
       "    </tr>\n",
       "    <tr>\n",
       "      <th>191</th>\n",
       "      <td>MR</td>\n",
       "      <td>dav1g</td>\n",
       "      <td>Rifler</td>\n",
       "      <td>Logitech G Pro X Superlight Black</td>\n",
       "      <td>1000.0</td>\n",
       "      <td>400.0</td>\n",
       "      <td>2.20</td>\n",
       "      <td>880.0</td>\n",
       "      <td>1.00</td>\n",
       "      <td>0.0</td>\n",
       "      <td>...</td>\n",
       "      <td>BenQ XL2546K</td>\n",
       "      <td>240.0</td>\n",
       "      <td>RTX 3070</td>\n",
       "      <td>1280x800</td>\n",
       "      <td>16:10</td>\n",
       "      <td>STR</td>\n",
       "      <td>VAXEE PA ZYGEN</td>\n",
       "      <td>Logitech G915 TKL</td>\n",
       "      <td>HyperX Cloud II</td>\n",
       "      <td>CONFIG</td>\n",
       "    </tr>\n",
       "    <tr>\n",
       "      <th>192</th>\n",
       "      <td>MR</td>\n",
       "      <td>DeathZz</td>\n",
       "      <td>Rifler</td>\n",
       "      <td>VAXEE OUTSET AX Yellow</td>\n",
       "      <td>1000.0</td>\n",
       "      <td>400.0</td>\n",
       "      <td>2.25</td>\n",
       "      <td>900.0</td>\n",
       "      <td>1.10</td>\n",
       "      <td>0.0</td>\n",
       "      <td>...</td>\n",
       "      <td>BenQ XL2546K</td>\n",
       "      <td>240.0</td>\n",
       "      <td>RTX 3070</td>\n",
       "      <td>1680x1050</td>\n",
       "      <td>16:10</td>\n",
       "      <td>STR</td>\n",
       "      <td>VAXEE PA Winter 21</td>\n",
       "      <td>Logitech G Pro X Mechanical Keyboard</td>\n",
       "      <td>Logitech G Pro X Headset</td>\n",
       "      <td>CONFIG</td>\n",
       "    </tr>\n",
       "    <tr>\n",
       "      <th>193</th>\n",
       "      <td>MR</td>\n",
       "      <td>mopoz</td>\n",
       "      <td>Rifler</td>\n",
       "      <td>Zowie FK1+</td>\n",
       "      <td>1000.0</td>\n",
       "      <td>400.0</td>\n",
       "      <td>1.00</td>\n",
       "      <td>400.0</td>\n",
       "      <td>1.00</td>\n",
       "      <td>0.0</td>\n",
       "      <td>...</td>\n",
       "      <td>BenQ XL2546K</td>\n",
       "      <td>240.0</td>\n",
       "      <td>RTX 2080</td>\n",
       "      <td>1920x1080</td>\n",
       "      <td>16:9</td>\n",
       "      <td>NaN</td>\n",
       "      <td>Zowie G-SR-SE Deep Blue</td>\n",
       "      <td>HyperX Alloy FPS</td>\n",
       "      <td>HyperX Cloud II</td>\n",
       "      <td>CONFIG</td>\n",
       "    </tr>\n",
       "    <tr>\n",
       "      <th>194</th>\n",
       "      <td>MR</td>\n",
       "      <td>alex</td>\n",
       "      <td>Rifler</td>\n",
       "      <td>Logitech G Pro X Superlight White</td>\n",
       "      <td>1000.0</td>\n",
       "      <td>400.0</td>\n",
       "      <td>2.50</td>\n",
       "      <td>1000.0</td>\n",
       "      <td>1.00</td>\n",
       "      <td>0.0</td>\n",
       "      <td>...</td>\n",
       "      <td>BenQ XL2546K</td>\n",
       "      <td>240.0</td>\n",
       "      <td>RTX 3070</td>\n",
       "      <td>1152x864</td>\n",
       "      <td>4:3</td>\n",
       "      <td>STR</td>\n",
       "      <td>VAXEE PA ZYGEN</td>\n",
       "      <td>Logitech G Pro X Mechanical Keyboard</td>\n",
       "      <td>HyperX Cloud II</td>\n",
       "      <td>CONFIG</td>\n",
       "    </tr>\n",
       "    <tr>\n",
       "      <th>211</th>\n",
       "      <td>MOUZ</td>\n",
       "      <td>NBK-</td>\n",
       "      <td>Rifler</td>\n",
       "      <td>Xtrfy MZ1 White Rail</td>\n",
       "      <td>1000.0</td>\n",
       "      <td>800.0</td>\n",
       "      <td>1.20</td>\n",
       "      <td>960.0</td>\n",
       "      <td>1.00</td>\n",
       "      <td>0.0</td>\n",
       "      <td>...</td>\n",
       "      <td>BenQ XL2546K</td>\n",
       "      <td>240.0</td>\n",
       "      <td>RTX 2080 Ti</td>\n",
       "      <td>1280x1024</td>\n",
       "      <td>5:4</td>\n",
       "      <td>BB</td>\n",
       "      <td>Razer Gigantus V2 MOUZ</td>\n",
       "      <td>Razer Huntsman Quartz</td>\n",
       "      <td>Razer BlackShark V2</td>\n",
       "      <td>NaN</td>\n",
       "    </tr>\n",
       "  </tbody>\n",
       "</table>\n",
       "<p>81 rows × 22 columns</p>\n",
       "</div>"
      ],
      "text/plain": [
       "     Team      Player    Role                                Mouse   M. HZ  \\\n",
       "2    NaVi  electronic  Rifler    Logitech G Pro X Superlight White  1000.0   \n",
       "3    NaVi         sdy  Rifler      FinalMouse Starlight 12 Phantom  1000.0   \n",
       "4    NaVi      s1mple   AWPer    Logitech G Pro X Superlight White  1000.0   \n",
       "5    NaVi    Perfecto  Rifler  Logitech G Pro X Superlight Magenta  1000.0   \n",
       "6    NaVi         b1t  Rifler    Logitech G Pro X Superlight White  1000.0   \n",
       "..    ...         ...     ...                                  ...     ...   \n",
       "191    MR       dav1g  Rifler    Logitech G Pro X Superlight Black  1000.0   \n",
       "192    MR     DeathZz  Rifler               VAXEE OUTSET AX Yellow  1000.0   \n",
       "193    MR       mopoz  Rifler                           Zowie FK1+  1000.0   \n",
       "194    MR        alex  Rifler    Logitech G Pro X Superlight White  1000.0   \n",
       "211  MOUZ        NBK-  Rifler                 Xtrfy MZ1 White Rail  1000.0   \n",
       "\n",
       "       DPI  Sens    eDPI  Zoom Sens  Accel  ...       Monitor     HZ  \\\n",
       "2    400.0  2.20   880.0       1.05    0.0  ...  BenQ XL2546K  240.0   \n",
       "3    800.0  1.00   800.0       1.00    0.0  ...  BenQ XL2546K  240.0   \n",
       "4    400.0  3.09  1236.0       1.00    0.0  ...  BenQ XL2546K  240.0   \n",
       "5    800.0  0.90   720.0       1.00    0.0  ...  BenQ XL2546K  240.0   \n",
       "6    400.0  1.42   568.0       1.00    0.0  ...   BenQ XL2546  240.0   \n",
       "..     ...   ...     ...        ...    ...  ...           ...    ...   \n",
       "191  400.0  2.20   880.0       1.00    0.0  ...  BenQ XL2546K  240.0   \n",
       "192  400.0  2.25   900.0       1.10    0.0  ...  BenQ XL2546K  240.0   \n",
       "193  400.0  1.00   400.0       1.00    0.0  ...  BenQ XL2546K  240.0   \n",
       "194  400.0  2.50  1000.0       1.00    0.0  ...  BenQ XL2546K  240.0   \n",
       "211  800.0  1.20   960.0       1.00    0.0  ...  BenQ XL2546K  240.0   \n",
       "\n",
       "             GPU  Resolution Aspect Ratio Scaling Mode  \\\n",
       "2     RX 6900 XT    1280x960          4:3          STR   \n",
       "3       RTX 3080   1280x1024          5:4          STR   \n",
       "4       RTX 3090    1280x960          4:3          STR   \n",
       "5     RX 6900 XT    1280x960          4:3          STR   \n",
       "6       RTX 3080    1280x960          4:3          STR   \n",
       "..           ...         ...          ...          ...   \n",
       "191     RTX 3070    1280x800        16:10          STR   \n",
       "192     RTX 3070   1680x1050        16:10          STR   \n",
       "193     RTX 2080   1920x1080         16:9          NaN   \n",
       "194     RTX 3070    1152x864          4:3          STR   \n",
       "211  RTX 2080 Ti   1280x1024          5:4           BB   \n",
       "\n",
       "                         Mousepad                              Keyboard  \\\n",
       "2                   Logitech G640               Logitech G915 TKL White   \n",
       "3              Logitech G640 NAVI                     Logitech G915 TKL   \n",
       "4    HATOR It's nice to be s1mple                     Logitech G915 TKL   \n",
       "5                   Logitech G640                     Logitech G915 TKL   \n",
       "6                      Zowie G-SR  Logitech G Pro X Mechanical Keyboard   \n",
       "..                            ...                                   ...   \n",
       "191                VAXEE PA ZYGEN                     Logitech G915 TKL   \n",
       "192            VAXEE PA Winter 21  Logitech G Pro X Mechanical Keyboard   \n",
       "193       Zowie G-SR-SE Deep Blue                      HyperX Alloy FPS   \n",
       "194                VAXEE PA ZYGEN  Logitech G Pro X Mechanical Keyboard   \n",
       "211        Razer Gigantus V2 MOUZ                 Razer Huntsman Quartz   \n",
       "\n",
       "                               Headset     CFG  \n",
       "2    Logitech G Pro X Wireless Headset  CONFIG  \n",
       "3             Logitech G Pro X Headset  CONFIG  \n",
       "4             Logitech G Pro X Headset  CONFIG  \n",
       "5             Logitech G Pro X Headset  CONFIG  \n",
       "6             Logitech G Pro X Headset  CONFIG  \n",
       "..                                 ...     ...  \n",
       "191                    HyperX Cloud II  CONFIG  \n",
       "192           Logitech G Pro X Headset  CONFIG  \n",
       "193                    HyperX Cloud II  CONFIG  \n",
       "194                    HyperX Cloud II  CONFIG  \n",
       "211                Razer BlackShark V2     NaN  \n",
       "\n",
       "[81 rows x 22 columns]"
      ]
     },
     "execution_count": 52,
     "metadata": {},
     "output_type": "execute_result"
    }
   ],
   "source": [
    "dataframe"
   ]
  },
  {
   "cell_type": "markdown",
   "metadata": {},
   "source": [
    "## Plot eDPI as chart"
   ]
  },
  {
   "cell_type": "code",
   "execution_count": 56,
   "metadata": {},
   "outputs": [
    {
     "data": {
      "image/png": "[encoded data removed]",
      "text/plain": [
       "<Figure size 1080x432 with 1 Axes>"
      ]
     },
     "metadata": {
      "needs_background": "light"
     },
     "output_type": "display_data"
    }
   ],
   "source": [
    "# Use seaborn to plot \"eDPI\" numbers\n",
    "plt.figure(figsize=(15, 6))\n",
    "sns.histplot(dataframe[\"eDPI\"], kde=True)\n",
    "plt.tight_layout()\n",
    "plt.show()"
   ]
  },
  {
   "cell_type": "markdown",
   "metadata": {},
   "source": [
    "## Plot Most Common Resolutions"
   ]
  },
  {
   "cell_type": "code",
   "execution_count": 57,
   "metadata": {},
   "outputs": [
    {
     "data": {
      "image/png": "[encoded data removed]",
      "text/plain": [
       "<Figure size 1296x576 with 1 Axes>"
      ]
     },
     "metadata": {
      "needs_background": "light"
     },
     "output_type": "display_data"
    }
   ],
   "source": [
    "# Plot \"Resolution\" frequencies\n",
    "plt.figure(figsize=(18, 8))\n",
    "sns.countplot(x=dataframe[\"Resolution\"])\n",
    "plt.tight_layout()\n",
    "plt.show()"
   ]
  },
  {
   "cell_type": "code",
   "execution_count": 58,
   "metadata": {},
   "outputs": [
    {
     "data": {
      "text/plain": [
       "8      karrigan\n",
       "12         ropz\n",
       "20     kscerato\n",
       "21          arT\n",
       "24      refrezh\n",
       "30      Plopski\n",
       "31          REZ\n",
       "36       tizian\n",
       "38       tabseN\n",
       "85       magixx\n",
       "193       mopoz\n",
       "Name: Player, dtype: object"
      ]
     },
     "execution_count": 58,
     "metadata": {},
     "output_type": "execute_result"
    }
   ],
   "source": [
    "# Show which players are using \"1920x1080\" \"Resolution\"\n",
    "dataframe[dataframe[\"Resolution\"] == \"1920x1080\"][\"Player\"]"
   ]
  },
  {
   "cell_type": "markdown",
   "metadata": {},
   "source": [
    "## Plot Scaling Mode"
   ]
  },
  {
   "cell_type": "code",
   "execution_count": 64,
   "metadata": {},
   "outputs": [
    {
     "data": {
      "image/png": "[encoded data removed]",
      "text/plain": [
       "<Figure size 1296x576 with 1 Axes>"
      ]
     },
     "metadata": {
      "needs_background": "light"
     },
     "output_type": "display_data"
    }
   ],
   "source": [
    "# Plot \"Scaling Mode\" frequencies\n",
    "plt.figure(figsize=(18, 8))\n",
    "sns.countplot(x=dataframe[\"Scaling Mode\"])\n",
    "plt.tight_layout()\n",
    "plt.show()"
   ]
  },
  {
   "cell_type": "code",
   "execution_count": 63,
   "metadata": {},
   "outputs": [
    {
     "data": {
      "text/plain": [
       "13        Ax1Le\n",
       "15        sh1ro\n",
       "25        stavn\n",
       "26        teses\n",
       "29       dev1ce\n",
       "43       kennyS\n",
       "50       k0nfig\n",
       "52        Xyp9x\n",
       "55       Magisk\n",
       "58     misutaaa\n",
       "66        nitr0\n",
       "68         shox\n",
       "87      chopper\n",
       "93        dycha\n",
       "167      Frozen\n",
       "171        acoR\n",
       "190    SunPayus\n",
       "211        NBK-\n",
       "Name: Player, dtype: object"
      ]
     },
     "execution_count": 63,
     "metadata": {},
     "output_type": "execute_result"
    }
   ],
   "source": [
    "# show players using \"Scaling Mode\" \"STR\"\n",
    "dataframe[dataframe[\"Scaling Mode\"] == \"BB\"][\"Player\"]"
   ]
  },
  {
   "cell_type": "markdown",
   "metadata": {},
   "source": [
    "## Plot Mouse"
   ]
  },
  {
   "cell_type": "code",
   "execution_count": 74,
   "metadata": {},
   "outputs": [
    {
     "data": {
      "image/png": "[encoded data removed]",
      "text/plain": [
       "<Figure size 1296x576 with 1 Axes>"
      ]
     },
     "metadata": {
      "needs_background": "light"
     },
     "output_type": "display_data"
    }
   ],
   "source": [
    "# Plot \"Mouse\" frequencies, rotate x-axis labels to be vertical\n",
    "plt.figure(figsize=(18, 8))\n",
    "sns.countplot(x=dataframe[\"Mouse\"])\n",
    "plt.tick_params(axis=\"x\", rotation=90)\n",
    "plt.tight_layout()\n",
    "plt.show()"
   ]
  }
 ],
 "metadata": {
  "kernelspec": {
   "display_name": "Python 3.9.10 64-bit",
   "language": "python",
   "name": "python3"
  },
  "language_info": {
   "codemirror_mode": {
    "name": "ipython",
    "version": 3
   },
   "file_extension": ".py",
   "mimetype": "text/x-python",
   "name": "python",
   "nbconvert_exporter": "python",
   "pygments_lexer": "ipython3",
   "version": "3.9.10"
  },
  "orig_nbformat": 4,
  "vscode": {
   "interpreter": {
    "hash": "ac79d90e52f554a03ecdae43238d0af12a23befc8fbacb460f4509d29e70d5af"
   }
  }
 },
 "nbformat": 4,
 "nbformat_minor": 2
}
